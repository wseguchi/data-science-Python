{
 "cells": [
  {
   "cell_type": "markdown",
   "id": "c2d0b080",
   "metadata": {
    "papermill": {
     "duration": 0.013712,
     "end_time": "2022-06-24T03:08:16.225296",
     "exception": false,
     "start_time": "2022-06-24T03:08:16.211584",
     "status": "completed"
    },
    "tags": []
   },
   "source": [
    "# 1 - Objetivo"
   ]
  },
  {
   "cell_type": "markdown",
   "id": "d67c016f",
   "metadata": {
    "papermill": {
     "duration": 0.012008,
     "end_time": "2022-06-24T03:08:16.249836",
     "exception": false,
     "start_time": "2022-06-24T03:08:16.237828",
     "status": "completed"
    },
    "tags": []
   },
   "source": [
    "Explorar dados de crédito da carteira de uma instituição financeira, para **investigar o motivo da inadimplência dos clientes**, baseado no comportamento de outros atributos como salário, escolaridade e movimentação financeira.\n",
    "\n",
    "As verificações terão como referência a segunda coluna do conjunto de dados, chamada de **default**, a qual indica se um cliente é adimplente(`default = 0`), ou inadimplente (`default = 1`)."
   ]
  },
  {
   "cell_type": "markdown",
   "id": "f630403d",
   "metadata": {
    "papermill": {
     "duration": 0.012679,
     "end_time": "2022-06-24T03:08:16.274852",
     "exception": false,
     "start_time": "2022-06-24T03:08:16.262173",
     "status": "completed"
    },
    "tags": []
   },
   "source": [
    "# 2 - Importação dos Dados"
   ]
  },
  {
   "cell_type": "code",
   "execution_count": 1,
   "id": "67282c15",
   "metadata": {
    "execution": {
     "iopub.execute_input": "2022-06-24T03:08:16.302665Z",
     "iopub.status.busy": "2022-06-24T03:08:16.302081Z",
     "iopub.status.idle": "2022-06-24T03:08:17.578715Z",
     "shell.execute_reply": "2022-06-24T03:08:17.577611Z"
    },
    "papermill": {
     "duration": 1.294314,
     "end_time": "2022-06-24T03:08:17.581555",
     "exception": false,
     "start_time": "2022-06-24T03:08:16.287241",
     "status": "completed"
    },
    "tags": []
   },
   "outputs": [],
   "source": [
    "# Importa as biblioteca auxiliares\n",
    "\n",
    "import pandas as pd\n",
    "import seaborn as sns\n",
    "import matplotlib.pyplot as plt\n",
    "from IPython.display import display\n"
   ]
  },
  {
   "cell_type": "code",
   "execution_count": 2,
   "id": "de272ae4",
   "metadata": {
    "execution": {
     "iopub.execute_input": "2022-06-24T03:08:17.608727Z",
     "iopub.status.busy": "2022-06-24T03:08:17.608354Z",
     "iopub.status.idle": "2022-06-24T03:08:17.670578Z",
     "shell.execute_reply": "2022-06-24T03:08:17.669482Z"
    },
    "papermill": {
     "duration": 0.079111,
     "end_time": "2022-06-24T03:08:17.673349",
     "exception": false,
     "start_time": "2022-06-24T03:08:17.594238",
     "status": "completed"
    },
    "tags": []
   },
   "outputs": [],
   "source": [
    "# Importa o arquivo de dados\n",
    "\n",
    "URL = '../input/credito/Python_M10_support material.csv'\n",
    "df = pd.read_csv(URL, na_values = 'na')"
   ]
  },
  {
   "cell_type": "code",
   "execution_count": 3,
   "id": "3ef6c868",
   "metadata": {
    "execution": {
     "iopub.execute_input": "2022-06-24T03:08:17.700716Z",
     "iopub.status.busy": "2022-06-24T03:08:17.700347Z",
     "iopub.status.idle": "2022-06-24T03:08:17.729974Z",
     "shell.execute_reply": "2022-06-24T03:08:17.729142Z"
    },
    "papermill": {
     "duration": 0.046274,
     "end_time": "2022-06-24T03:08:17.732243",
     "exception": false,
     "start_time": "2022-06-24T03:08:17.685969",
     "status": "completed"
    },
    "tags": []
   },
   "outputs": [
    {
     "data": {
      "text/html": [
       "<div>\n",
       "<style scoped>\n",
       "    .dataframe tbody tr th:only-of-type {\n",
       "        vertical-align: middle;\n",
       "    }\n",
       "\n",
       "    .dataframe tbody tr th {\n",
       "        vertical-align: top;\n",
       "    }\n",
       "\n",
       "    .dataframe thead th {\n",
       "        text-align: right;\n",
       "    }\n",
       "</style>\n",
       "<table border=\"1\" class=\"dataframe\">\n",
       "  <thead>\n",
       "    <tr style=\"text-align: right;\">\n",
       "      <th></th>\n",
       "      <th>id</th>\n",
       "      <th>default</th>\n",
       "      <th>idade</th>\n",
       "      <th>sexo</th>\n",
       "      <th>dependentes</th>\n",
       "      <th>escolaridade</th>\n",
       "      <th>estado_civil</th>\n",
       "      <th>salario_anual</th>\n",
       "      <th>tipo_cartao</th>\n",
       "      <th>meses_de_relacionamento</th>\n",
       "      <th>qtd_produtos</th>\n",
       "      <th>iteracoes_12m</th>\n",
       "      <th>meses_inativo_12m</th>\n",
       "      <th>limite_credito</th>\n",
       "      <th>valor_transacoes_12m</th>\n",
       "      <th>qtd_transacoes_12m</th>\n",
       "    </tr>\n",
       "  </thead>\n",
       "  <tbody>\n",
       "    <tr>\n",
       "      <th>0</th>\n",
       "      <td>768805383</td>\n",
       "      <td>0</td>\n",
       "      <td>45</td>\n",
       "      <td>M</td>\n",
       "      <td>3</td>\n",
       "      <td>ensino medio</td>\n",
       "      <td>casado</td>\n",
       "      <td>$60K - $80K</td>\n",
       "      <td>blue</td>\n",
       "      <td>39</td>\n",
       "      <td>5</td>\n",
       "      <td>3</td>\n",
       "      <td>1</td>\n",
       "      <td>12.691,51</td>\n",
       "      <td>1.144,90</td>\n",
       "      <td>42</td>\n",
       "    </tr>\n",
       "    <tr>\n",
       "      <th>1</th>\n",
       "      <td>818770008</td>\n",
       "      <td>0</td>\n",
       "      <td>49</td>\n",
       "      <td>F</td>\n",
       "      <td>5</td>\n",
       "      <td>mestrado</td>\n",
       "      <td>solteiro</td>\n",
       "      <td>menos que $40K</td>\n",
       "      <td>blue</td>\n",
       "      <td>44</td>\n",
       "      <td>6</td>\n",
       "      <td>2</td>\n",
       "      <td>1</td>\n",
       "      <td>8.256,96</td>\n",
       "      <td>1.291,45</td>\n",
       "      <td>33</td>\n",
       "    </tr>\n",
       "    <tr>\n",
       "      <th>2</th>\n",
       "      <td>713982108</td>\n",
       "      <td>0</td>\n",
       "      <td>51</td>\n",
       "      <td>M</td>\n",
       "      <td>3</td>\n",
       "      <td>mestrado</td>\n",
       "      <td>casado</td>\n",
       "      <td>$80K - $120K</td>\n",
       "      <td>blue</td>\n",
       "      <td>36</td>\n",
       "      <td>4</td>\n",
       "      <td>0</td>\n",
       "      <td>1</td>\n",
       "      <td>3.418,56</td>\n",
       "      <td>1.887,72</td>\n",
       "      <td>20</td>\n",
       "    </tr>\n",
       "    <tr>\n",
       "      <th>3</th>\n",
       "      <td>769911858</td>\n",
       "      <td>0</td>\n",
       "      <td>40</td>\n",
       "      <td>F</td>\n",
       "      <td>4</td>\n",
       "      <td>ensino medio</td>\n",
       "      <td>NaN</td>\n",
       "      <td>menos que $40K</td>\n",
       "      <td>blue</td>\n",
       "      <td>34</td>\n",
       "      <td>3</td>\n",
       "      <td>1</td>\n",
       "      <td>4</td>\n",
       "      <td>3.313,03</td>\n",
       "      <td>1.171,56</td>\n",
       "      <td>20</td>\n",
       "    </tr>\n",
       "    <tr>\n",
       "      <th>4</th>\n",
       "      <td>709106358</td>\n",
       "      <td>0</td>\n",
       "      <td>40</td>\n",
       "      <td>M</td>\n",
       "      <td>3</td>\n",
       "      <td>sem educacao formal</td>\n",
       "      <td>casado</td>\n",
       "      <td>$60K - $80K</td>\n",
       "      <td>blue</td>\n",
       "      <td>21</td>\n",
       "      <td>5</td>\n",
       "      <td>0</td>\n",
       "      <td>1</td>\n",
       "      <td>4.716,22</td>\n",
       "      <td>816,08</td>\n",
       "      <td>28</td>\n",
       "    </tr>\n",
       "  </tbody>\n",
       "</table>\n",
       "</div>"
      ],
      "text/plain": [
       "          id  default  idade sexo  dependentes         escolaridade  \\\n",
       "0  768805383        0     45    M            3         ensino medio   \n",
       "1  818770008        0     49    F            5             mestrado   \n",
       "2  713982108        0     51    M            3             mestrado   \n",
       "3  769911858        0     40    F            4         ensino medio   \n",
       "4  709106358        0     40    M            3  sem educacao formal   \n",
       "\n",
       "  estado_civil   salario_anual tipo_cartao  meses_de_relacionamento  \\\n",
       "0       casado     $60K - $80K        blue                       39   \n",
       "1     solteiro  menos que $40K        blue                       44   \n",
       "2       casado    $80K - $120K        blue                       36   \n",
       "3          NaN  menos que $40K        blue                       34   \n",
       "4       casado     $60K - $80K        blue                       21   \n",
       "\n",
       "   qtd_produtos  iteracoes_12m  meses_inativo_12m limite_credito  \\\n",
       "0             5              3                  1      12.691,51   \n",
       "1             6              2                  1       8.256,96   \n",
       "2             4              0                  1       3.418,56   \n",
       "3             3              1                  4       3.313,03   \n",
       "4             5              0                  1       4.716,22   \n",
       "\n",
       "  valor_transacoes_12m  qtd_transacoes_12m  \n",
       "0             1.144,90                  42  \n",
       "1             1.291,45                  33  \n",
       "2             1.887,72                  20  \n",
       "3             1.171,56                  20  \n",
       "4               816,08                  28  "
      ]
     },
     "execution_count": 3,
     "metadata": {},
     "output_type": "execute_result"
    }
   ],
   "source": [
    "# Amostra do arquivo importado / data frame\n",
    "\n",
    "df.head(n=5)"
   ]
  },
  {
   "cell_type": "markdown",
   "id": "2e52653f",
   "metadata": {
    "papermill": {
     "duration": 0.01279,
     "end_time": "2022-06-24T03:08:17.758090",
     "exception": false,
     "start_time": "2022-06-24T03:08:17.745300",
     "status": "completed"
    },
    "tags": []
   },
   "source": [
    "# 3 - Exploração dos Dados Brutos"
   ]
  },
  {
   "cell_type": "code",
   "execution_count": 4,
   "id": "a5ab41fd",
   "metadata": {
    "execution": {
     "iopub.execute_input": "2022-06-24T03:08:17.785313Z",
     "iopub.status.busy": "2022-06-24T03:08:17.784931Z",
     "iopub.status.idle": "2022-06-24T03:08:17.790193Z",
     "shell.execute_reply": "2022-06-24T03:08:17.789424Z"
    },
    "papermill": {
     "duration": 0.02248,
     "end_time": "2022-06-24T03:08:17.793376",
     "exception": false,
     "start_time": "2022-06-24T03:08:17.770896",
     "status": "completed"
    },
    "tags": []
   },
   "outputs": [
    {
     "name": "stdout",
     "output_type": "stream",
     "text": [
      "O conjunto de dados possui o total de 10127 linhas e 16 colunas.\n"
     ]
    }
   ],
   "source": [
    "# Verifica a quantidade e disposição dos dados\n",
    "\n",
    "linhas, colunas = df.shape\n",
    "print(f'O conjunto de dados possui o total de {linhas} linhas e {colunas} colunas.')"
   ]
  },
  {
   "cell_type": "code",
   "execution_count": 5,
   "id": "93b2f6c4",
   "metadata": {
    "execution": {
     "iopub.execute_input": "2022-06-24T03:08:17.822660Z",
     "iopub.status.busy": "2022-06-24T03:08:17.821546Z",
     "iopub.status.idle": "2022-06-24T03:08:17.837375Z",
     "shell.execute_reply": "2022-06-24T03:08:17.836373Z"
    },
    "papermill": {
     "duration": 0.032338,
     "end_time": "2022-06-24T03:08:17.839745",
     "exception": false,
     "start_time": "2022-06-24T03:08:17.807407",
     "status": "completed"
    },
    "tags": []
   },
   "outputs": [
    {
     "name": "stdout",
     "output_type": "stream",
     "text": [
      "A proporcão clientes adimplentes é de 83.93%\n",
      "Equivalente à 8500 registros.\n",
      "\n",
      "A proporcão clientes inadimplentes é de 16.07%\n",
      "Equivalente à 1627 registros.\n",
      "\n"
     ]
    }
   ],
   "source": [
    "# Verifica a quantidade e proporção da adimplência (coluna default)\n",
    "\n",
    "qtd_total, _ = df.shape\n",
    "qtd_adimplentes, _ = df[df['default'] == 0].shape\n",
    "qtd_inadimplentes, _ = df[df['default'] == 1].shape\n",
    "\n",
    "print(f'A proporcão clientes adimplentes é de {round(100 * qtd_adimplentes / qtd_total, 2)}%')\n",
    "print(f'Equivalente à {qtd_adimplentes} registros.\\n')\n",
    "\n",
    "print(f'A proporcão clientes inadimplentes é de {round(100 * qtd_inadimplentes / qtd_total, 2)}%')\n",
    "print(f'Equivalente à {qtd_inadimplentes} registros.\\n')"
   ]
  },
  {
   "cell_type": "code",
   "execution_count": 6,
   "id": "78ec0d54",
   "metadata": {
    "execution": {
     "iopub.execute_input": "2022-06-24T03:08:17.873301Z",
     "iopub.status.busy": "2022-06-24T03:08:17.872594Z",
     "iopub.status.idle": "2022-06-24T03:08:17.880481Z",
     "shell.execute_reply": "2022-06-24T03:08:17.879415Z"
    },
    "papermill": {
     "duration": 0.026442,
     "end_time": "2022-06-24T03:08:17.882564",
     "exception": false,
     "start_time": "2022-06-24T03:08:17.856122",
     "status": "completed"
    },
    "tags": []
   },
   "outputs": [
    {
     "data": {
      "text/plain": [
       "id                          int64\n",
       "default                     int64\n",
       "idade                       int64\n",
       "sexo                       object\n",
       "dependentes                 int64\n",
       "escolaridade               object\n",
       "estado_civil               object\n",
       "salario_anual              object\n",
       "tipo_cartao                object\n",
       "meses_de_relacionamento     int64\n",
       "qtd_produtos                int64\n",
       "iteracoes_12m               int64\n",
       "meses_inativo_12m           int64\n",
       "limite_credito             object\n",
       "valor_transacoes_12m       object\n",
       "qtd_transacoes_12m          int64\n",
       "dtype: object"
      ]
     },
     "execution_count": 6,
     "metadata": {},
     "output_type": "execute_result"
    }
   ],
   "source": [
    "#Verifica tipo dos dados por colunas\n",
    "\n",
    "df.dtypes"
   ]
  },
  {
   "cell_type": "code",
   "execution_count": 7,
   "id": "f7962e1b",
   "metadata": {
    "execution": {
     "iopub.execute_input": "2022-06-24T03:08:17.922135Z",
     "iopub.status.busy": "2022-06-24T03:08:17.921417Z",
     "iopub.status.idle": "2022-06-24T03:08:17.985428Z",
     "shell.execute_reply": "2022-06-24T03:08:17.984333Z"
    },
    "papermill": {
     "duration": 0.088944,
     "end_time": "2022-06-24T03:08:17.988515",
     "exception": false,
     "start_time": "2022-06-24T03:08:17.899571",
     "status": "completed"
    },
    "tags": []
   },
   "outputs": [
    {
     "data": {
      "text/html": [
       "<div>\n",
       "<style scoped>\n",
       "    .dataframe tbody tr th:only-of-type {\n",
       "        vertical-align: middle;\n",
       "    }\n",
       "\n",
       "    .dataframe tbody tr th {\n",
       "        vertical-align: top;\n",
       "    }\n",
       "\n",
       "    .dataframe thead th {\n",
       "        text-align: right;\n",
       "    }\n",
       "</style>\n",
       "<table border=\"1\" class=\"dataframe\">\n",
       "  <thead>\n",
       "    <tr style=\"text-align: right;\">\n",
       "      <th></th>\n",
       "      <th>count</th>\n",
       "      <th>mean</th>\n",
       "      <th>std</th>\n",
       "      <th>min</th>\n",
       "      <th>25%</th>\n",
       "      <th>50%</th>\n",
       "      <th>75%</th>\n",
       "      <th>max</th>\n",
       "    </tr>\n",
       "  </thead>\n",
       "  <tbody>\n",
       "    <tr>\n",
       "      <th>default</th>\n",
       "      <td>10127.0</td>\n",
       "      <td>0.160660</td>\n",
       "      <td>0.367235</td>\n",
       "      <td>0.0</td>\n",
       "      <td>0.0</td>\n",
       "      <td>0.0</td>\n",
       "      <td>0.0</td>\n",
       "      <td>1.0</td>\n",
       "    </tr>\n",
       "    <tr>\n",
       "      <th>idade</th>\n",
       "      <td>10127.0</td>\n",
       "      <td>46.325960</td>\n",
       "      <td>8.016814</td>\n",
       "      <td>26.0</td>\n",
       "      <td>41.0</td>\n",
       "      <td>46.0</td>\n",
       "      <td>52.0</td>\n",
       "      <td>73.0</td>\n",
       "    </tr>\n",
       "    <tr>\n",
       "      <th>dependentes</th>\n",
       "      <td>10127.0</td>\n",
       "      <td>2.346203</td>\n",
       "      <td>1.298908</td>\n",
       "      <td>0.0</td>\n",
       "      <td>1.0</td>\n",
       "      <td>2.0</td>\n",
       "      <td>3.0</td>\n",
       "      <td>5.0</td>\n",
       "    </tr>\n",
       "    <tr>\n",
       "      <th>meses_de_relacionamento</th>\n",
       "      <td>10127.0</td>\n",
       "      <td>35.928409</td>\n",
       "      <td>7.986416</td>\n",
       "      <td>13.0</td>\n",
       "      <td>31.0</td>\n",
       "      <td>36.0</td>\n",
       "      <td>40.0</td>\n",
       "      <td>56.0</td>\n",
       "    </tr>\n",
       "    <tr>\n",
       "      <th>qtd_produtos</th>\n",
       "      <td>10127.0</td>\n",
       "      <td>3.812580</td>\n",
       "      <td>1.554408</td>\n",
       "      <td>1.0</td>\n",
       "      <td>3.0</td>\n",
       "      <td>4.0</td>\n",
       "      <td>5.0</td>\n",
       "      <td>6.0</td>\n",
       "    </tr>\n",
       "    <tr>\n",
       "      <th>iteracoes_12m</th>\n",
       "      <td>10127.0</td>\n",
       "      <td>2.455317</td>\n",
       "      <td>1.106225</td>\n",
       "      <td>0.0</td>\n",
       "      <td>2.0</td>\n",
       "      <td>2.0</td>\n",
       "      <td>3.0</td>\n",
       "      <td>6.0</td>\n",
       "    </tr>\n",
       "    <tr>\n",
       "      <th>meses_inativo_12m</th>\n",
       "      <td>10127.0</td>\n",
       "      <td>2.341167</td>\n",
       "      <td>1.010622</td>\n",
       "      <td>0.0</td>\n",
       "      <td>2.0</td>\n",
       "      <td>2.0</td>\n",
       "      <td>3.0</td>\n",
       "      <td>6.0</td>\n",
       "    </tr>\n",
       "    <tr>\n",
       "      <th>qtd_transacoes_12m</th>\n",
       "      <td>10127.0</td>\n",
       "      <td>64.858695</td>\n",
       "      <td>23.472570</td>\n",
       "      <td>10.0</td>\n",
       "      <td>45.0</td>\n",
       "      <td>67.0</td>\n",
       "      <td>81.0</td>\n",
       "      <td>139.0</td>\n",
       "    </tr>\n",
       "  </tbody>\n",
       "</table>\n",
       "</div>"
      ],
      "text/plain": [
       "                           count       mean        std   min   25%   50%  \\\n",
       "default                  10127.0   0.160660   0.367235   0.0   0.0   0.0   \n",
       "idade                    10127.0  46.325960   8.016814  26.0  41.0  46.0   \n",
       "dependentes              10127.0   2.346203   1.298908   0.0   1.0   2.0   \n",
       "meses_de_relacionamento  10127.0  35.928409   7.986416  13.0  31.0  36.0   \n",
       "qtd_produtos             10127.0   3.812580   1.554408   1.0   3.0   4.0   \n",
       "iteracoes_12m            10127.0   2.455317   1.106225   0.0   2.0   2.0   \n",
       "meses_inativo_12m        10127.0   2.341167   1.010622   0.0   2.0   2.0   \n",
       "qtd_transacoes_12m       10127.0  64.858695  23.472570  10.0  45.0  67.0   \n",
       "\n",
       "                          75%    max  \n",
       "default                   0.0    1.0  \n",
       "idade                    52.0   73.0  \n",
       "dependentes               3.0    5.0  \n",
       "meses_de_relacionamento  40.0   56.0  \n",
       "qtd_produtos              5.0    6.0  \n",
       "iteracoes_12m             3.0    6.0  \n",
       "meses_inativo_12m         3.0    6.0  \n",
       "qtd_transacoes_12m       81.0  139.0  "
      ]
     },
     "execution_count": 7,
     "metadata": {},
     "output_type": "execute_result"
    }
   ],
   "source": [
    "# Lista colunas com dados do tipo numérico\n",
    "\n",
    "df.drop('id', axis=1).select_dtypes('number').describe().transpose()"
   ]
  },
  {
   "cell_type": "code",
   "execution_count": 8,
   "id": "bbd29390",
   "metadata": {
    "execution": {
     "iopub.execute_input": "2022-06-24T03:08:18.019410Z",
     "iopub.status.busy": "2022-06-24T03:08:18.017568Z",
     "iopub.status.idle": "2022-06-24T03:08:18.068682Z",
     "shell.execute_reply": "2022-06-24T03:08:18.067485Z"
    },
    "papermill": {
     "duration": 0.068349,
     "end_time": "2022-06-24T03:08:18.071146",
     "exception": false,
     "start_time": "2022-06-24T03:08:18.002797",
     "status": "completed"
    },
    "tags": []
   },
   "outputs": [
    {
     "data": {
      "text/html": [
       "<div>\n",
       "<style scoped>\n",
       "    .dataframe tbody tr th:only-of-type {\n",
       "        vertical-align: middle;\n",
       "    }\n",
       "\n",
       "    .dataframe tbody tr th {\n",
       "        vertical-align: top;\n",
       "    }\n",
       "\n",
       "    .dataframe thead th {\n",
       "        text-align: right;\n",
       "    }\n",
       "</style>\n",
       "<table border=\"1\" class=\"dataframe\">\n",
       "  <thead>\n",
       "    <tr style=\"text-align: right;\">\n",
       "      <th></th>\n",
       "      <th>count</th>\n",
       "      <th>unique</th>\n",
       "      <th>top</th>\n",
       "      <th>freq</th>\n",
       "    </tr>\n",
       "  </thead>\n",
       "  <tbody>\n",
       "    <tr>\n",
       "      <th>sexo</th>\n",
       "      <td>10127</td>\n",
       "      <td>2</td>\n",
       "      <td>F</td>\n",
       "      <td>5358</td>\n",
       "    </tr>\n",
       "    <tr>\n",
       "      <th>escolaridade</th>\n",
       "      <td>8608</td>\n",
       "      <td>5</td>\n",
       "      <td>mestrado</td>\n",
       "      <td>3128</td>\n",
       "    </tr>\n",
       "    <tr>\n",
       "      <th>estado_civil</th>\n",
       "      <td>9378</td>\n",
       "      <td>3</td>\n",
       "      <td>casado</td>\n",
       "      <td>4687</td>\n",
       "    </tr>\n",
       "    <tr>\n",
       "      <th>salario_anual</th>\n",
       "      <td>9015</td>\n",
       "      <td>5</td>\n",
       "      <td>menos que $40K</td>\n",
       "      <td>3561</td>\n",
       "    </tr>\n",
       "    <tr>\n",
       "      <th>tipo_cartao</th>\n",
       "      <td>10127</td>\n",
       "      <td>4</td>\n",
       "      <td>blue</td>\n",
       "      <td>9436</td>\n",
       "    </tr>\n",
       "    <tr>\n",
       "      <th>limite_credito</th>\n",
       "      <td>10127</td>\n",
       "      <td>9272</td>\n",
       "      <td>1.438,21</td>\n",
       "      <td>11</td>\n",
       "    </tr>\n",
       "    <tr>\n",
       "      <th>valor_transacoes_12m</th>\n",
       "      <td>10127</td>\n",
       "      <td>10035</td>\n",
       "      <td>3.851,51</td>\n",
       "      <td>3</td>\n",
       "    </tr>\n",
       "  </tbody>\n",
       "</table>\n",
       "</div>"
      ],
      "text/plain": [
       "                      count unique             top  freq\n",
       "sexo                  10127      2               F  5358\n",
       "escolaridade           8608      5        mestrado  3128\n",
       "estado_civil           9378      3          casado  4687\n",
       "salario_anual          9015      5  menos que $40K  3561\n",
       "tipo_cartao           10127      4            blue  9436\n",
       "limite_credito        10127   9272        1.438,21    11\n",
       "valor_transacoes_12m  10127  10035        3.851,51     3"
      ]
     },
     "execution_count": 8,
     "metadata": {},
     "output_type": "execute_result"
    }
   ],
   "source": [
    "# Lista colunas com dados do tipo 'object'\n",
    "\n",
    "df.select_dtypes('object').describe().transpose()"
   ]
  },
  {
   "cell_type": "markdown",
   "id": "9919f7f6",
   "metadata": {
    "papermill": {
     "duration": 0.013685,
     "end_time": "2022-06-24T03:08:18.098506",
     "exception": false,
     "start_time": "2022-06-24T03:08:18.084821",
     "status": "completed"
    },
    "tags": []
   },
   "source": [
    "**Atenção:**\n",
    "* As colunas \"limite_credito\" e \"valor_transacoes_12m\" estão classificadas incorretamente com o tipo \"object\", ao invés do tipo numérico.\n",
    "\n",
    "* As colunas \"escolaridade\", \"estado_civil\" e \"salario_anual\" posuem menor número de dados."
   ]
  },
  {
   "cell_type": "code",
   "execution_count": 9,
   "id": "a30ea11e",
   "metadata": {
    "execution": {
     "iopub.execute_input": "2022-06-24T03:08:18.128205Z",
     "iopub.status.busy": "2022-06-24T03:08:18.127221Z",
     "iopub.status.idle": "2022-06-24T03:08:18.144462Z",
     "shell.execute_reply": "2022-06-24T03:08:18.143319Z"
    },
    "papermill": {
     "duration": 0.034619,
     "end_time": "2022-06-24T03:08:18.146749",
     "exception": false,
     "start_time": "2022-06-24T03:08:18.112130",
     "status": "completed"
    },
    "tags": []
   },
   "outputs": [
    {
     "data": {
      "text/plain": [
       "id                         False\n",
       "default                    False\n",
       "idade                      False\n",
       "sexo                       False\n",
       "dependentes                False\n",
       "escolaridade                True\n",
       "estado_civil                True\n",
       "salario_anual               True\n",
       "tipo_cartao                False\n",
       "meses_de_relacionamento    False\n",
       "qtd_produtos               False\n",
       "iteracoes_12m              False\n",
       "meses_inativo_12m          False\n",
       "limite_credito             False\n",
       "valor_transacoes_12m       False\n",
       "qtd_transacoes_12m         False\n",
       "dtype: bool"
      ]
     },
     "execution_count": 9,
     "metadata": {},
     "output_type": "execute_result"
    }
   ],
   "source": [
    "# Verifica os dados faltantes\n",
    "\n",
    "df.isna().any()"
   ]
  },
  {
   "cell_type": "markdown",
   "id": "e4e878f0",
   "metadata": {
    "papermill": {
     "duration": 0.017074,
     "end_time": "2022-06-24T03:08:18.177631",
     "exception": false,
     "start_time": "2022-06-24T03:08:18.160557",
     "status": "completed"
    },
    "tags": []
   },
   "source": [
    "### 3.1 - Análise do Impacto dos Dados Faltantes"
   ]
  },
  {
   "cell_type": "code",
   "execution_count": 10,
   "id": "34ecaa97",
   "metadata": {
    "execution": {
     "iopub.execute_input": "2022-06-24T03:08:18.214455Z",
     "iopub.status.busy": "2022-06-24T03:08:18.213922Z",
     "iopub.status.idle": "2022-06-24T03:08:18.222585Z",
     "shell.execute_reply": "2022-06-24T03:08:18.221482Z"
    },
    "papermill": {
     "duration": 0.028066,
     "end_time": "2022-06-24T03:08:18.225041",
     "exception": false,
     "start_time": "2022-06-24T03:08:18.196975",
     "status": "completed"
    },
    "tags": []
   },
   "outputs": [],
   "source": [
    "# Cria função que coleta informações dos registros faltantes\n",
    "\n",
    "def stats_dados_faltantes(df: pd.DataFrame):\n",
    "\n",
    "  stats_dados_faltantes = []\n",
    "  for col in df.columns:\n",
    "    if df[col].isna().any():\n",
    "      qtd, _ = df[df[col].isna()].shape\n",
    "      total, _ = df.shape\n",
    "      dict_dados_faltantes = {col: {'quantidade': qtd, \"porcentagem\": round(100 * qtd/total, 2)}}\n",
    "      stats_dados_faltantes.append(dict_dados_faltantes)\n",
    "        \n",
    "  for stat in stats_dados_faltantes:\n",
    "    print(stat)"
   ]
  },
  {
   "cell_type": "code",
   "execution_count": 11,
   "id": "41e5a7f3",
   "metadata": {
    "execution": {
     "iopub.execute_input": "2022-06-24T03:08:18.257008Z",
     "iopub.status.busy": "2022-06-24T03:08:18.256136Z",
     "iopub.status.idle": "2022-06-24T03:08:18.282236Z",
     "shell.execute_reply": "2022-06-24T03:08:18.281016Z"
    },
    "papermill": {
     "duration": 0.046761,
     "end_time": "2022-06-24T03:08:18.286058",
     "exception": false,
     "start_time": "2022-06-24T03:08:18.239297",
     "status": "completed"
    },
    "tags": []
   },
   "outputs": [
    {
     "name": "stdout",
     "output_type": "stream",
     "text": [
      "Proporção dos dados faltantes em relação a todos os clientes:\n",
      "\n",
      "{'escolaridade': {'quantidade': 1519, 'porcentagem': 15.0}}\n",
      "{'estado_civil': {'quantidade': 749, 'porcentagem': 7.4}}\n",
      "{'salario_anual': {'quantidade': 1112, 'porcentagem': 10.98}}\n"
     ]
    }
   ],
   "source": [
    "# Representatividade em todos os clientes\n",
    "\n",
    "print('Proporção dos dados faltantes em relação a todos os clientes:\\n')\n",
    "stats_dados_faltantes(df=df)"
   ]
  },
  {
   "cell_type": "code",
   "execution_count": 12,
   "id": "006fdd02",
   "metadata": {
    "execution": {
     "iopub.execute_input": "2022-06-24T03:08:18.316318Z",
     "iopub.status.busy": "2022-06-24T03:08:18.315578Z",
     "iopub.status.idle": "2022-06-24T03:08:18.338642Z",
     "shell.execute_reply": "2022-06-24T03:08:18.337060Z"
    },
    "papermill": {
     "duration": 0.04104,
     "end_time": "2022-06-24T03:08:18.341490",
     "exception": false,
     "start_time": "2022-06-24T03:08:18.300450",
     "status": "completed"
    },
    "tags": []
   },
   "outputs": [
    {
     "name": "stdout",
     "output_type": "stream",
     "text": [
      "Proporção dos dados faltantes em relação aos clientes Adimplentes:\n",
      "\n",
      "{'escolaridade': {'quantidade': 1263, 'porcentagem': 14.86}}\n",
      "{'estado_civil': {'quantidade': 620, 'porcentagem': 7.29}}\n",
      "{'salario_anual': {'quantidade': 925, 'porcentagem': 10.88}}\n"
     ]
    }
   ],
   "source": [
    "# Representatividade nos clientes Adimplentes\n",
    "\n",
    "print('Proporção dos dados faltantes em relação aos clientes Adimplentes:\\n')\n",
    "stats_dados_faltantes(df=df[df['default'] == 0])"
   ]
  },
  {
   "cell_type": "code",
   "execution_count": 13,
   "id": "dda5aa71",
   "metadata": {
    "execution": {
     "iopub.execute_input": "2022-06-24T03:08:18.371759Z",
     "iopub.status.busy": "2022-06-24T03:08:18.370982Z",
     "iopub.status.idle": "2022-06-24T03:08:18.385558Z",
     "shell.execute_reply": "2022-06-24T03:08:18.383659Z"
    },
    "papermill": {
     "duration": 0.03296,
     "end_time": "2022-06-24T03:08:18.388447",
     "exception": false,
     "start_time": "2022-06-24T03:08:18.355487",
     "status": "completed"
    },
    "tags": []
   },
   "outputs": [
    {
     "name": "stdout",
     "output_type": "stream",
     "text": [
      "Proporção dos dados faltantes em relação aos clientes Inadimplentes:\n",
      "\n",
      "{'escolaridade': {'quantidade': 256, 'porcentagem': 15.73}}\n",
      "{'estado_civil': {'quantidade': 129, 'porcentagem': 7.93}}\n",
      "{'salario_anual': {'quantidade': 187, 'porcentagem': 11.49}}\n"
     ]
    }
   ],
   "source": [
    "# Representatividade nos clientes Inadimplentes\n",
    "\n",
    "print('Proporção dos dados faltantes em relação aos clientes Inadimplentes:\\n')\n",
    "stats_dados_faltantes(df=df[df['default'] == 1])"
   ]
  },
  {
   "cell_type": "markdown",
   "id": "dba45d32",
   "metadata": {
    "papermill": {
     "duration": 0.013711,
     "end_time": "2022-06-24T03:08:18.416363",
     "exception": false,
     "start_time": "2022-06-24T03:08:18.402652",
     "status": "completed"
    },
    "tags": []
   },
   "source": [
    "* Observa-se que a proporção dos dados faltantes é muito similar entre os clientes Adimplentes e Inadimplentes. A exclusão de tais registros não prejudicará a análise."
   ]
  },
  {
   "cell_type": "markdown",
   "id": "d4e789e6",
   "metadata": {
    "papermill": {
     "duration": 0.013354,
     "end_time": "2022-06-24T03:08:18.443563",
     "exception": false,
     "start_time": "2022-06-24T03:08:18.430209",
     "status": "completed"
    },
    "tags": []
   },
   "source": [
    "# 4 - Tratamento dos Dados"
   ]
  },
  {
   "cell_type": "markdown",
   "id": "417ab986",
   "metadata": {
    "papermill": {
     "duration": 0.013459,
     "end_time": "2022-06-24T03:08:18.470876",
     "exception": false,
     "start_time": "2022-06-24T03:08:18.457417",
     "status": "completed"
    },
    "tags": []
   },
   "source": [
    "#### 4.1 - Exclusão dos registros com dados faltantes"
   ]
  },
  {
   "cell_type": "code",
   "execution_count": 14,
   "id": "0f83e0a8",
   "metadata": {
    "execution": {
     "iopub.execute_input": "2022-06-24T03:08:18.500871Z",
     "iopub.status.busy": "2022-06-24T03:08:18.500107Z",
     "iopub.status.idle": "2022-06-24T03:08:18.517957Z",
     "shell.execute_reply": "2022-06-24T03:08:18.516466Z"
    },
    "papermill": {
     "duration": 0.035565,
     "end_time": "2022-06-24T03:08:18.520280",
     "exception": false,
     "start_time": "2022-06-24T03:08:18.484715",
     "status": "completed"
    },
    "tags": []
   },
   "outputs": [
    {
     "name": "stdout",
     "output_type": "stream",
     "text": [
      "O novo conjunto de dados possui o total de 7081 linhas e 16 colunas.\n"
     ]
    }
   ],
   "source": [
    "# Exclui registros com dados faltantes\n",
    "\n",
    "df.dropna(inplace=True)\n",
    "\n",
    "# Shape do novo conjunto de dados\n",
    "\n",
    "linhas, colunas = df.shape\n",
    "print(f'O novo conjunto de dados possui o total de {linhas} linhas e {colunas} colunas.')"
   ]
  },
  {
   "cell_type": "code",
   "execution_count": 15,
   "id": "c44f883d",
   "metadata": {
    "execution": {
     "iopub.execute_input": "2022-06-24T03:08:18.550126Z",
     "iopub.status.busy": "2022-06-24T03:08:18.549373Z",
     "iopub.status.idle": "2022-06-24T03:08:18.560393Z",
     "shell.execute_reply": "2022-06-24T03:08:18.558876Z"
    },
    "papermill": {
     "duration": 0.028553,
     "end_time": "2022-06-24T03:08:18.562630",
     "exception": false,
     "start_time": "2022-06-24T03:08:18.534077",
     "status": "completed"
    },
    "tags": []
   },
   "outputs": [
    {
     "name": "stdout",
     "output_type": "stream",
     "text": [
      "A proporcão adimplentes era de 83.93%\n",
      "A nova proporcão de clientes adimplentes é de 84.28%\n",
      "\n",
      "A proporcão clientes inadimplentes era de 16.07%\n",
      "A nova proporcão de clientes inadimplentes é de 15.72%\n"
     ]
    }
   ],
   "source": [
    "# Compara as proporções, após a remoção dos dados faltantes\n",
    "\n",
    "qtd_total_novo, _ = df.shape\n",
    "qtd_adimplentes_novo, _ = df[df['default'] == 0].shape\n",
    "qtd_inadimplentes_novo, _ = df[df['default'] == 1].shape\n",
    "\n",
    "print(f'A proporcão adimplentes era de {round(100 * qtd_adimplentes / qtd_total, 2)}%')\n",
    "print(f'A nova proporcão de clientes adimplentes é de {round(100 * qtd_adimplentes_novo / qtd_total_novo, 2)}%\\n')\n",
    "\n",
    "print(f'A proporcão clientes inadimplentes era de {round(100 * qtd_inadimplentes / qtd_total, 2)}%')\n",
    "print(f'A nova proporcão de clientes inadimplentes é de {round(100 * qtd_inadimplentes_novo / qtd_total_novo, 2)}%')"
   ]
  },
  {
   "cell_type": "markdown",
   "id": "a39057cb",
   "metadata": {
    "papermill": {
     "duration": 0.013769,
     "end_time": "2022-06-24T03:08:18.590345",
     "exception": false,
     "start_time": "2022-06-24T03:08:18.576576",
     "status": "completed"
    },
    "tags": []
   },
   "source": [
    "#### 4.2 - Converte dados \"object\" em numéricos"
   ]
  },
  {
   "cell_type": "code",
   "execution_count": 16,
   "id": "5fe3dae3",
   "metadata": {
    "execution": {
     "iopub.execute_input": "2022-06-24T03:08:18.619821Z",
     "iopub.status.busy": "2022-06-24T03:08:18.619462Z",
     "iopub.status.idle": "2022-06-24T03:08:18.642088Z",
     "shell.execute_reply": "2022-06-24T03:08:18.641165Z"
    },
    "papermill": {
     "duration": 0.040423,
     "end_time": "2022-06-24T03:08:18.644789",
     "exception": false,
     "start_time": "2022-06-24T03:08:18.604366",
     "status": "completed"
    },
    "tags": []
   },
   "outputs": [],
   "source": [
    "# Cria função que corrige os caracteres especiais \".\" e \",\" e converte o dado para o tipo \"float\"\n",
    "\n",
    "fn = lambda valor: float(valor.replace(\".\", \"\").replace(\",\", \".\"))\n",
    "\n",
    "# Aplica a função nas colunas desejadas\n",
    "\n",
    "df['valor_transacoes_12m'] = df['valor_transacoes_12m'].apply(fn)\n",
    "df['limite_credito'] = df['limite_credito'].apply(fn)"
   ]
  },
  {
   "cell_type": "code",
   "execution_count": 17,
   "id": "52b06db0",
   "metadata": {
    "execution": {
     "iopub.execute_input": "2022-06-24T03:08:18.675220Z",
     "iopub.status.busy": "2022-06-24T03:08:18.674465Z",
     "iopub.status.idle": "2022-06-24T03:08:18.682590Z",
     "shell.execute_reply": "2022-06-24T03:08:18.681763Z"
    },
    "papermill": {
     "duration": 0.025803,
     "end_time": "2022-06-24T03:08:18.684733",
     "exception": false,
     "start_time": "2022-06-24T03:08:18.658930",
     "status": "completed"
    },
    "tags": []
   },
   "outputs": [
    {
     "data": {
      "text/plain": [
       "id                           int64\n",
       "default                      int64\n",
       "idade                        int64\n",
       "sexo                        object\n",
       "dependentes                  int64\n",
       "escolaridade                object\n",
       "estado_civil                object\n",
       "salario_anual               object\n",
       "tipo_cartao                 object\n",
       "meses_de_relacionamento      int64\n",
       "qtd_produtos                 int64\n",
       "iteracoes_12m                int64\n",
       "meses_inativo_12m            int64\n",
       "limite_credito             float64\n",
       "valor_transacoes_12m       float64\n",
       "qtd_transacoes_12m           int64\n",
       "dtype: object"
      ]
     },
     "execution_count": 17,
     "metadata": {},
     "output_type": "execute_result"
    }
   ],
   "source": [
    "# Verifica os tipos de dados\n",
    "\n",
    "df.dtypes"
   ]
  },
  {
   "cell_type": "code",
   "execution_count": 18,
   "id": "96f50993",
   "metadata": {
    "execution": {
     "iopub.execute_input": "2022-06-24T03:08:18.715650Z",
     "iopub.status.busy": "2022-06-24T03:08:18.714855Z",
     "iopub.status.idle": "2022-06-24T03:08:18.767619Z",
     "shell.execute_reply": "2022-06-24T03:08:18.766480Z"
    },
    "papermill": {
     "duration": 0.071574,
     "end_time": "2022-06-24T03:08:18.770444",
     "exception": false,
     "start_time": "2022-06-24T03:08:18.698870",
     "status": "completed"
    },
    "tags": []
   },
   "outputs": [
    {
     "data": {
      "text/html": [
       "<div>\n",
       "<style scoped>\n",
       "    .dataframe tbody tr th:only-of-type {\n",
       "        vertical-align: middle;\n",
       "    }\n",
       "\n",
       "    .dataframe tbody tr th {\n",
       "        vertical-align: top;\n",
       "    }\n",
       "\n",
       "    .dataframe thead th {\n",
       "        text-align: right;\n",
       "    }\n",
       "</style>\n",
       "<table border=\"1\" class=\"dataframe\">\n",
       "  <thead>\n",
       "    <tr style=\"text-align: right;\">\n",
       "      <th></th>\n",
       "      <th>count</th>\n",
       "      <th>mean</th>\n",
       "      <th>std</th>\n",
       "      <th>min</th>\n",
       "      <th>25%</th>\n",
       "      <th>50%</th>\n",
       "      <th>75%</th>\n",
       "      <th>max</th>\n",
       "    </tr>\n",
       "  </thead>\n",
       "  <tbody>\n",
       "    <tr>\n",
       "      <th>default</th>\n",
       "      <td>7081.0</td>\n",
       "      <td>0.157181</td>\n",
       "      <td>0.363997</td>\n",
       "      <td>0.00</td>\n",
       "      <td>0.00</td>\n",
       "      <td>0.00</td>\n",
       "      <td>0.00</td>\n",
       "      <td>1.00</td>\n",
       "    </tr>\n",
       "    <tr>\n",
       "      <th>idade</th>\n",
       "      <td>7081.0</td>\n",
       "      <td>46.347691</td>\n",
       "      <td>8.041225</td>\n",
       "      <td>26.00</td>\n",
       "      <td>41.00</td>\n",
       "      <td>46.00</td>\n",
       "      <td>52.00</td>\n",
       "      <td>73.00</td>\n",
       "    </tr>\n",
       "    <tr>\n",
       "      <th>dependentes</th>\n",
       "      <td>7081.0</td>\n",
       "      <td>2.337805</td>\n",
       "      <td>1.291649</td>\n",
       "      <td>0.00</td>\n",
       "      <td>1.00</td>\n",
       "      <td>2.00</td>\n",
       "      <td>3.00</td>\n",
       "      <td>5.00</td>\n",
       "    </tr>\n",
       "    <tr>\n",
       "      <th>meses_de_relacionamento</th>\n",
       "      <td>7081.0</td>\n",
       "      <td>35.981359</td>\n",
       "      <td>8.002609</td>\n",
       "      <td>13.00</td>\n",
       "      <td>31.00</td>\n",
       "      <td>36.00</td>\n",
       "      <td>40.00</td>\n",
       "      <td>56.00</td>\n",
       "    </tr>\n",
       "    <tr>\n",
       "      <th>qtd_produtos</th>\n",
       "      <td>7081.0</td>\n",
       "      <td>3.819376</td>\n",
       "      <td>1.544444</td>\n",
       "      <td>1.00</td>\n",
       "      <td>3.00</td>\n",
       "      <td>4.00</td>\n",
       "      <td>5.00</td>\n",
       "      <td>6.00</td>\n",
       "    </tr>\n",
       "    <tr>\n",
       "      <th>iteracoes_12m</th>\n",
       "      <td>7081.0</td>\n",
       "      <td>2.454456</td>\n",
       "      <td>1.104917</td>\n",
       "      <td>0.00</td>\n",
       "      <td>2.00</td>\n",
       "      <td>2.00</td>\n",
       "      <td>3.00</td>\n",
       "      <td>6.00</td>\n",
       "    </tr>\n",
       "    <tr>\n",
       "      <th>meses_inativo_12m</th>\n",
       "      <td>7081.0</td>\n",
       "      <td>2.342607</td>\n",
       "      <td>0.995104</td>\n",
       "      <td>0.00</td>\n",
       "      <td>2.00</td>\n",
       "      <td>2.00</td>\n",
       "      <td>3.00</td>\n",
       "      <td>6.00</td>\n",
       "    </tr>\n",
       "    <tr>\n",
       "      <th>limite_credito</th>\n",
       "      <td>7081.0</td>\n",
       "      <td>8493.259524</td>\n",
       "      <td>9126.082105</td>\n",
       "      <td>1438.00</td>\n",
       "      <td>2498.35</td>\n",
       "      <td>4287.22</td>\n",
       "      <td>10729.40</td>\n",
       "      <td>34516.99</td>\n",
       "    </tr>\n",
       "    <tr>\n",
       "      <th>valor_transacoes_12m</th>\n",
       "      <td>7081.0</td>\n",
       "      <td>4394.800669</td>\n",
       "      <td>3468.457771</td>\n",
       "      <td>510.16</td>\n",
       "      <td>2089.63</td>\n",
       "      <td>3831.09</td>\n",
       "      <td>4740.51</td>\n",
       "      <td>17995.49</td>\n",
       "    </tr>\n",
       "    <tr>\n",
       "      <th>qtd_transacoes_12m</th>\n",
       "      <td>7081.0</td>\n",
       "      <td>64.503319</td>\n",
       "      <td>23.809330</td>\n",
       "      <td>10.00</td>\n",
       "      <td>44.00</td>\n",
       "      <td>67.00</td>\n",
       "      <td>80.00</td>\n",
       "      <td>134.00</td>\n",
       "    </tr>\n",
       "  </tbody>\n",
       "</table>\n",
       "</div>"
      ],
      "text/plain": [
       "                          count         mean          std      min      25%  \\\n",
       "default                  7081.0     0.157181     0.363997     0.00     0.00   \n",
       "idade                    7081.0    46.347691     8.041225    26.00    41.00   \n",
       "dependentes              7081.0     2.337805     1.291649     0.00     1.00   \n",
       "meses_de_relacionamento  7081.0    35.981359     8.002609    13.00    31.00   \n",
       "qtd_produtos             7081.0     3.819376     1.544444     1.00     3.00   \n",
       "iteracoes_12m            7081.0     2.454456     1.104917     0.00     2.00   \n",
       "meses_inativo_12m        7081.0     2.342607     0.995104     0.00     2.00   \n",
       "limite_credito           7081.0  8493.259524  9126.082105  1438.00  2498.35   \n",
       "valor_transacoes_12m     7081.0  4394.800669  3468.457771   510.16  2089.63   \n",
       "qtd_transacoes_12m       7081.0    64.503319    23.809330    10.00    44.00   \n",
       "\n",
       "                             50%       75%       max  \n",
       "default                     0.00      0.00      1.00  \n",
       "idade                      46.00     52.00     73.00  \n",
       "dependentes                 2.00      3.00      5.00  \n",
       "meses_de_relacionamento    36.00     40.00     56.00  \n",
       "qtd_produtos                4.00      5.00      6.00  \n",
       "iteracoes_12m               2.00      3.00      6.00  \n",
       "meses_inativo_12m           2.00      3.00      6.00  \n",
       "limite_credito           4287.22  10729.40  34516.99  \n",
       "valor_transacoes_12m     3831.09   4740.51  17995.49  \n",
       "qtd_transacoes_12m         67.00     80.00    134.00  "
      ]
     },
     "execution_count": 18,
     "metadata": {},
     "output_type": "execute_result"
    }
   ],
   "source": [
    "# Verifica as colunas com dados numéricos\n",
    "\n",
    "df.drop('id', axis=1).select_dtypes('number').describe().transpose()"
   ]
  },
  {
   "cell_type": "markdown",
   "id": "298a5808",
   "metadata": {
    "papermill": {
     "duration": 0.015155,
     "end_time": "2022-06-24T03:08:18.801664",
     "exception": false,
     "start_time": "2022-06-24T03:08:18.786509",
     "status": "completed"
    },
    "tags": []
   },
   "source": [
    "# 5 - Visualização dos Dados"
   ]
  },
  {
   "cell_type": "markdown",
   "id": "b01bcc51",
   "metadata": {
    "papermill": {
     "duration": 0.01533,
     "end_time": "2022-06-24T03:08:18.832898",
     "exception": false,
     "start_time": "2022-06-24T03:08:18.817568",
     "status": "completed"
    },
    "tags": []
   },
   "source": [
    "Finalizada a preparação dos dados, vamos iniciar as investigações para entender qual fator leva um cliente à inadimplencia."
   ]
  },
  {
   "cell_type": "code",
   "execution_count": 19,
   "id": "4a941518",
   "metadata": {
    "execution": {
     "iopub.execute_input": "2022-06-24T03:08:18.863592Z",
     "iopub.status.busy": "2022-06-24T03:08:18.863212Z",
     "iopub.status.idle": "2022-06-24T03:08:18.869812Z",
     "shell.execute_reply": "2022-06-24T03:08:18.869102Z"
    },
    "papermill": {
     "duration": 0.024597,
     "end_time": "2022-06-24T03:08:18.872109",
     "exception": false,
     "start_time": "2022-06-24T03:08:18.847512",
     "status": "completed"
    },
    "tags": []
   },
   "outputs": [],
   "source": [
    "# Determina as variáves com as bases de dados que serão utilizadas\n",
    "\n",
    "df_adimplente = df[df['default'] == 0]\n",
    "df_inadimplente = df[df['default'] == 1]"
   ]
  },
  {
   "cell_type": "markdown",
   "id": "1a72a128",
   "metadata": {
    "papermill": {
     "duration": 0.014359,
     "end_time": "2022-06-24T03:08:18.901083",
     "exception": false,
     "start_time": "2022-06-24T03:08:18.886724",
     "status": "completed"
    },
    "tags": []
   },
   "source": [
    "#### 5.1 - Dados Categóricos\n",
    "* Escolaridade, Estado Civil, Salário Anual e Tipo do Cartão"
   ]
  },
  {
   "cell_type": "markdown",
   "id": "64ae76c7",
   "metadata": {
    "papermill": {
     "duration": 0.014363,
     "end_time": "2022-06-24T03:08:18.930016",
     "exception": false,
     "start_time": "2022-06-24T03:08:18.915653",
     "status": "completed"
    },
    "tags": []
   },
   "source": [
    "##### 5.1.1 - Escolaridade"
   ]
  },
  {
   "cell_type": "code",
   "execution_count": 20,
   "id": "2bb50f8b",
   "metadata": {
    "execution": {
     "iopub.execute_input": "2022-06-24T03:08:18.961403Z",
     "iopub.status.busy": "2022-06-24T03:08:18.960392Z",
     "iopub.status.idle": "2022-06-24T03:08:19.440249Z",
     "shell.execute_reply": "2022-06-24T03:08:19.439084Z"
    },
    "papermill": {
     "duration": 0.498255,
     "end_time": "2022-06-24T03:08:19.442914",
     "exception": false,
     "start_time": "2022-06-24T03:08:18.944659",
     "status": "completed"
    },
    "tags": []
   },
   "outputs": [
    {
     "data": {
      "image/png": "[encoded data removed]",
      "text/plain": [
       "<Figure size 1440x360 with 3 Axes>"
      ]
     },
     "metadata": {
      "needs_background": "light"
     },
     "output_type": "display_data"
    }
   ],
   "source": [
    "# Elaboração do gráfico\n",
    "\n",
    "coluna = 'escolaridade'\n",
    "titulos = ['Escolaridade dos Clientes', 'Escolaridade Adimplentes', 'Escolaridade Inadimplentes']\n",
    "\n",
    "eixo = 0\n",
    "max_y = 0\n",
    "max = df.select_dtypes('object').describe()[coluna]['freq'] * 1.1\n",
    "\n",
    "figura, eixos = plt.subplots(1,3, figsize=(20, 5), sharex=True)\n",
    "\n",
    "for dataframe in [df, df_adimplente, df_inadimplente]:\n",
    "\n",
    "  df_to_plot = dataframe[coluna].value_counts().to_frame()\n",
    "  df_to_plot.rename(columns={coluna: 'frequencia_absoluta'}, inplace=True)\n",
    "  df_to_plot[coluna] = df_to_plot.index\n",
    "  df_to_plot.sort_values(by=[coluna], inplace=True)\n",
    "  df_to_plot.sort_values(by=[coluna])\n",
    "\n",
    "  f = sns.barplot(x=df_to_plot[coluna], y=df_to_plot['frequencia_absoluta'], ax=eixos[eixo])\n",
    "  f.set(title=titulos[eixo], xlabel=None, ylabel='Frequência Absoluta')\n",
    "  f.set_xticklabels(labels=f.get_xticklabels(), rotation=90)\n",
    "\n",
    "  _, max_y_f = f.get_ylim()\n",
    "  max_y = max_y_f if max_y_f > max_y else max_y\n",
    "  f.set(ylim=(0, max_y))\n",
    "\n",
    "  eixo += 1\n",
    "\n",
    "figura.show()"
   ]
  },
  {
   "cell_type": "markdown",
   "id": "5da2ea66",
   "metadata": {
    "papermill": {
     "duration": 0.014967,
     "end_time": "2022-06-24T03:08:19.472981",
     "exception": false,
     "start_time": "2022-06-24T03:08:19.458014",
     "status": "completed"
    },
    "tags": []
   },
   "source": [
    "##### 5.1.2 - Estado Civil"
   ]
  },
  {
   "cell_type": "code",
   "execution_count": 21,
   "id": "fbe80f7b",
   "metadata": {
    "execution": {
     "iopub.execute_input": "2022-06-24T03:08:19.505831Z",
     "iopub.status.busy": "2022-06-24T03:08:19.504642Z",
     "iopub.status.idle": "2022-06-24T03:08:19.913417Z",
     "shell.execute_reply": "2022-06-24T03:08:19.912276Z"
    },
    "papermill": {
     "duration": 0.427587,
     "end_time": "2022-06-24T03:08:19.915678",
     "exception": false,
     "start_time": "2022-06-24T03:08:19.488091",
     "status": "completed"
    },
    "tags": []
   },
   "outputs": [
    {
     "data": {
      "image/png": "[encoded data removed]",
      "text/plain": [
       "<Figure size 1440x360 with 3 Axes>"
      ]
     },
     "metadata": {
      "needs_background": "light"
     },
     "output_type": "display_data"
    }
   ],
   "source": [
    "coluna = 'estado_civil'\n",
    "titulos = ['Estado Civil dos Clientes', 'Estado Civil Adimplentes', 'Estado Civil Inadimplentes']\n",
    "\n",
    "eixo = 0\n",
    "max_y = 0\n",
    "max = df.select_dtypes('object').describe()[coluna]['freq'] * 1.1\n",
    "\n",
    "figura, eixos = plt.subplots(1,3, figsize=(20, 5), sharex=True)\n",
    "\n",
    "for dataframe in [df, df_adimplente, df_inadimplente]:\n",
    "\n",
    "  df_to_plot = dataframe[coluna].value_counts().to_frame()\n",
    "  df_to_plot.rename(columns={coluna: 'frequencia_absoluta'}, inplace=True)\n",
    "  df_to_plot[coluna] = df_to_plot.index\n",
    "  df_to_plot.sort_values(by=[coluna], inplace=True)\n",
    "  df_to_plot.sort_values(by=[coluna])\n",
    "\n",
    "  f = sns.barplot(x=df_to_plot[coluna], y=df_to_plot['frequencia_absoluta'], ax=eixos[eixo])\n",
    "  f.set(title=titulos[eixo], xlabel=None, ylabel='Frequência Absoluta')\n",
    "  f.set_xticklabels(labels=f.get_xticklabels(), rotation=90)\n",
    "\n",
    "  _, max_y_f = f.get_ylim()\n",
    "  max_y = max_y_f if max_y_f > max_y else max_y\n",
    "  f.set(ylim=(0, max_y))\n",
    "\n",
    "  eixo += 1\n",
    "\n",
    "figura.show()"
   ]
  },
  {
   "cell_type": "markdown",
   "id": "2ce8eb54",
   "metadata": {
    "papermill": {
     "duration": 0.015106,
     "end_time": "2022-06-24T03:08:19.946214",
     "exception": false,
     "start_time": "2022-06-24T03:08:19.931108",
     "status": "completed"
    },
    "tags": []
   },
   "source": [
    "##### 5.1.3 - Salário Anual"
   ]
  },
  {
   "cell_type": "code",
   "execution_count": 22,
   "id": "ac39e33a",
   "metadata": {
    "execution": {
     "iopub.execute_input": "2022-06-24T03:08:19.979185Z",
     "iopub.status.busy": "2022-06-24T03:08:19.978520Z",
     "iopub.status.idle": "2022-06-24T03:08:20.636812Z",
     "shell.execute_reply": "2022-06-24T03:08:20.635648Z"
    },
    "papermill": {
     "duration": 0.67766,
     "end_time": "2022-06-24T03:08:20.639217",
     "exception": false,
     "start_time": "2022-06-24T03:08:19.961557",
     "status": "completed"
    },
    "tags": []
   },
   "outputs": [
    {
     "data": {
      "image/png": "[encoded data removed]",
      "text/plain": [
       "<Figure size 1440x360 with 3 Axes>"
      ]
     },
     "metadata": {
      "needs_background": "light"
     },
     "output_type": "display_data"
    }
   ],
   "source": [
    "coluna = 'salario_anual'\n",
    "titulos = ['Salário Anual dos Clientes', 'Salário Anual Adimplentes', 'Salário Anual Inadimplentes']\n",
    "\n",
    "eixo = 0\n",
    "max_y = 0\n",
    "max = df.select_dtypes('object').describe()[coluna]['freq'] * 1.1\n",
    "\n",
    "figura, eixos = plt.subplots(1,3, figsize=(20, 5), sharex=True)\n",
    "\n",
    "for dataframe in [df, df_adimplente, df_inadimplente]:\n",
    "\n",
    "  df_to_plot = dataframe[coluna].value_counts().to_frame()\n",
    "  df_to_plot.rename(columns={coluna: 'frequencia_absoluta'}, inplace=True)\n",
    "  df_to_plot[coluna] = df_to_plot.index\n",
    "  df_to_plot.sort_values(by=[coluna], inplace=True)\n",
    "  df_to_plot.sort_values(by=[coluna])\n",
    "\n",
    "  f = sns.barplot(x=df_to_plot[coluna], y=df_to_plot['frequencia_absoluta'], ax=eixos[eixo])\n",
    "  f.set(title=titulos[eixo], xlabel=None, ylabel='Frequência Absoluta')\n",
    "  f.set_xticklabels(labels=f.get_xticklabels(), rotation=90)\n",
    "\n",
    "  _, max_y_f = f.get_ylim()\n",
    "  max_y = max_y_f if max_y_f > max_y else max_y\n",
    "  f.set(ylim=(0, max_y))\n",
    "\n",
    "  eixo += 1\n",
    "\n",
    "figura.show()"
   ]
  },
  {
   "cell_type": "markdown",
   "id": "af5c45b9",
   "metadata": {
    "papermill": {
     "duration": 0.015647,
     "end_time": "2022-06-24T03:08:20.670748",
     "exception": false,
     "start_time": "2022-06-24T03:08:20.655101",
     "status": "completed"
    },
    "tags": []
   },
   "source": [
    "##### 5.1.4 - Tipo do Cartão"
   ]
  },
  {
   "cell_type": "code",
   "execution_count": 23,
   "id": "67239b69",
   "metadata": {
    "execution": {
     "iopub.execute_input": "2022-06-24T03:08:20.704789Z",
     "iopub.status.busy": "2022-06-24T03:08:20.703931Z",
     "iopub.status.idle": "2022-06-24T03:08:21.128208Z",
     "shell.execute_reply": "2022-06-24T03:08:21.127196Z"
    },
    "papermill": {
     "duration": 0.444029,
     "end_time": "2022-06-24T03:08:21.130650",
     "exception": false,
     "start_time": "2022-06-24T03:08:20.686621",
     "status": "completed"
    },
    "tags": []
   },
   "outputs": [
    {
     "data": {
      "image/png": "[encoded data removed]",
      "text/plain": [
       "<Figure size 1440x360 with 3 Axes>"
      ]
     },
     "metadata": {
      "needs_background": "light"
     },
     "output_type": "display_data"
    }
   ],
   "source": [
    "coluna = 'tipo_cartao'\n",
    "titulos = ['Tipo do Cartão dos Clientes', 'Tipo do Cartão Adimplentes', 'Tipo do Cartão Inadimplentes']\n",
    "\n",
    "eixo = 0\n",
    "max_y = 0\n",
    "max = df.select_dtypes('object').describe()[coluna]['freq'] * 1.1\n",
    "\n",
    "figura, eixos = plt.subplots(1,3, figsize=(20, 5), sharex=True)\n",
    "\n",
    "for dataframe in [df, df_adimplente, df_inadimplente]:\n",
    "\n",
    "  df_to_plot = dataframe[coluna].value_counts().to_frame()\n",
    "  df_to_plot.rename(columns={coluna: 'frequencia_absoluta'}, inplace=True)\n",
    "  df_to_plot[coluna] = df_to_plot.index\n",
    "  df_to_plot.sort_values(by=[coluna], inplace=True)\n",
    "  df_to_plot.sort_values(by=[coluna])\n",
    "\n",
    "  f = sns.barplot(x=df_to_plot[coluna], y=df_to_plot['frequencia_absoluta'], ax=eixos[eixo])\n",
    "  f.set(title=titulos[eixo], xlabel=None, ylabel='Frequência Absoluta')\n",
    "  f.set_xticklabels(labels=f.get_xticklabels(), rotation=90)\n",
    "\n",
    "  _, max_y_f = f.get_ylim()\n",
    "  max_y = max_y_f if max_y_f > max_y else max_y\n",
    "  f.set(ylim=(0, max_y))\n",
    "\n",
    "  eixo += 1\n",
    "\n",
    "figura.show()"
   ]
  },
  {
   "cell_type": "markdown",
   "id": "545e9c73",
   "metadata": {
    "papermill": {
     "duration": 0.016125,
     "end_time": "2022-06-24T03:08:21.163506",
     "exception": false,
     "start_time": "2022-06-24T03:08:21.147381",
     "status": "completed"
    },
    "tags": []
   },
   "source": [
    "* Visão ampliada do gráfico: **Tipo de Cartão dos Clientes Inadimplentes**"
   ]
  },
  {
   "cell_type": "code",
   "execution_count": 24,
   "id": "48d3cf26",
   "metadata": {
    "execution": {
     "iopub.execute_input": "2022-06-24T03:08:21.197676Z",
     "iopub.status.busy": "2022-06-24T03:08:21.197258Z",
     "iopub.status.idle": "2022-06-24T03:08:21.405009Z",
     "shell.execute_reply": "2022-06-24T03:08:21.404124Z"
    },
    "papermill": {
     "duration": 0.227821,
     "end_time": "2022-06-24T03:08:21.407681",
     "exception": false,
     "start_time": "2022-06-24T03:08:21.179860",
     "status": "completed"
    },
    "tags": []
   },
   "outputs": [
    {
     "data": {
      "text/html": [
       "<div>\n",
       "<style scoped>\n",
       "    .dataframe tbody tr th:only-of-type {\n",
       "        vertical-align: middle;\n",
       "    }\n",
       "\n",
       "    .dataframe tbody tr th {\n",
       "        vertical-align: top;\n",
       "    }\n",
       "\n",
       "    .dataframe thead th {\n",
       "        text-align: right;\n",
       "    }\n",
       "</style>\n",
       "<table border=\"1\" class=\"dataframe\">\n",
       "  <thead>\n",
       "    <tr style=\"text-align: right;\">\n",
       "      <th></th>\n",
       "      <th>frequencia_absoluta</th>\n",
       "      <th>tipo_cartao</th>\n",
       "    </tr>\n",
       "  </thead>\n",
       "  <tbody>\n",
       "    <tr>\n",
       "      <th>blue</th>\n",
       "      <td>1034</td>\n",
       "      <td>blue</td>\n",
       "    </tr>\n",
       "    <tr>\n",
       "      <th>gold</th>\n",
       "      <td>13</td>\n",
       "      <td>gold</td>\n",
       "    </tr>\n",
       "    <tr>\n",
       "      <th>platinum</th>\n",
       "      <td>3</td>\n",
       "      <td>platinum</td>\n",
       "    </tr>\n",
       "    <tr>\n",
       "      <th>silver</th>\n",
       "      <td>63</td>\n",
       "      <td>silver</td>\n",
       "    </tr>\n",
       "  </tbody>\n",
       "</table>\n",
       "</div>"
      ],
      "text/plain": [
       "          frequencia_absoluta tipo_cartao\n",
       "blue                     1034        blue\n",
       "gold                       13        gold\n",
       "platinum                    3    platinum\n",
       "silver                     63      silver"
      ]
     },
     "metadata": {},
     "output_type": "display_data"
    },
    {
     "data": {
      "image/png": "[encoded data removed]",
      "text/plain": [
       "<Figure size 432x288 with 1 Axes>"
      ]
     },
     "metadata": {
      "needs_background": "light"
     },
     "output_type": "display_data"
    }
   ],
   "source": [
    "coluna = 'tipo_cartao'\n",
    "titulos = ['Tipo do Cartão dos Clientes Inadimplentes']\n",
    "\n",
    "eixo = 0\n",
    "max_y = 0\n",
    "max = df.select_dtypes('object').describe()[coluna]['freq'] * 1.1\n",
    "\n",
    "df_to_plot = df_inadimplente[coluna].value_counts().to_frame()\n",
    "df_to_plot.rename(columns={coluna: 'frequencia_absoluta'}, inplace=True)\n",
    "df_to_plot[coluna] = df_to_plot.index\n",
    "df_to_plot.sort_values(by=[coluna], inplace=True)\n",
    "df_to_plot.sort_values(by=[coluna])\n",
    "\n",
    "f = sns.barplot(x=df_to_plot[coluna], y=df_to_plot['frequencia_absoluta'])\n",
    "f.set(title=titulos[eixo], xlabel=None, ylabel='Frequência Absoluta')\n",
    "f.set_xticklabels(labels=f.get_xticklabels(), rotation=90)\n",
    "\n",
    "figura.show()\n",
    "\n",
    "# Monta tabela com os valores:\n",
    "\n",
    "display(df_to_plot)"
   ]
  },
  {
   "cell_type": "markdown",
   "id": "e51bd9cc",
   "metadata": {
    "papermill": {
     "duration": 0.016525,
     "end_time": "2022-06-24T03:08:21.440907",
     "exception": false,
     "start_time": "2022-06-24T03:08:21.424382",
     "status": "completed"
    },
    "tags": []
   },
   "source": [
    "#### 5.2 - Dados Numéricos\n",
    "* Relação entre a variável resposta default com os atributos numéricos.\n",
    "* Limite de Crédito, Iteracoes, Quantidade e Valores das transações nos últimos 12 meses."
   ]
  },
  {
   "cell_type": "markdown",
   "id": "99558fec",
   "metadata": {
    "papermill": {
     "duration": 0.016751,
     "end_time": "2022-06-24T03:08:21.474472",
     "exception": false,
     "start_time": "2022-06-24T03:08:21.457721",
     "status": "completed"
    },
    "tags": []
   },
   "source": [
    "#### 5.2.1 - Limite de Crédito"
   ]
  },
  {
   "cell_type": "code",
   "execution_count": 25,
   "id": "9c43b633",
   "metadata": {
    "execution": {
     "iopub.execute_input": "2022-06-24T03:08:21.510234Z",
     "iopub.status.busy": "2022-06-24T03:08:21.509815Z",
     "iopub.status.idle": "2022-06-24T03:08:22.289267Z",
     "shell.execute_reply": "2022-06-24T03:08:22.288021Z"
    },
    "papermill": {
     "duration": 0.800244,
     "end_time": "2022-06-24T03:08:22.291681",
     "exception": false,
     "start_time": "2022-06-24T03:08:21.491437",
     "status": "completed"
    },
    "tags": []
   },
   "outputs": [
    {
     "data": {
      "image/png": "[encoded data removed]",
      "text/plain": [
       "<Figure size 1440x360 with 3 Axes>"
      ]
     },
     "metadata": {
      "needs_background": "light"
     },
     "output_type": "display_data"
    }
   ],
   "source": [
    "coluna = 'limite_credito'\n",
    "titulos = ['Limite de Crédito Clientes', 'Limite de Crédito Adimplentes', 'Limite de Crédito Inadimplentes']\n",
    "\n",
    "eixo = 0\n",
    "max_y = 0\n",
    "figura, eixos = plt.subplots(1,3, figsize=(20, 5), sharex=True)\n",
    "\n",
    "for dataframe in [df, df_adimplente, df_inadimplente]:\n",
    "\n",
    "  f = sns.histplot(x=coluna, data=dataframe, stat='count', ax=eixos[eixo])\n",
    "  f.set(title=titulos[eixo], xlabel=None, ylabel='Frequência Absoluta')\n",
    "\n",
    "  _, max_y_f = f.get_ylim()\n",
    "  max_y = max_y_f if max_y_f > max_y else max_y\n",
    "  f.set(ylim=(0, max_y))\n",
    "\n",
    "  eixo += 1\n",
    "\n",
    "figura.show()"
   ]
  },
  {
   "cell_type": "markdown",
   "id": "a251ed77",
   "metadata": {
    "papermill": {
     "duration": 0.016921,
     "end_time": "2022-06-24T03:08:22.326032",
     "exception": false,
     "start_time": "2022-06-24T03:08:22.309111",
     "status": "completed"
    },
    "tags": []
   },
   "source": [
    "#### 5.2.2 - Iterações nos últimos 12 meses"
   ]
  },
  {
   "cell_type": "code",
   "execution_count": 26,
   "id": "9fa495c7",
   "metadata": {
    "execution": {
     "iopub.execute_input": "2022-06-24T03:08:22.362383Z",
     "iopub.status.busy": "2022-06-24T03:08:22.361522Z",
     "iopub.status.idle": "2022-06-24T03:08:22.994497Z",
     "shell.execute_reply": "2022-06-24T03:08:22.993585Z"
    },
    "papermill": {
     "duration": 0.654168,
     "end_time": "2022-06-24T03:08:22.997125",
     "exception": false,
     "start_time": "2022-06-24T03:08:22.342957",
     "status": "completed"
    },
    "tags": []
   },
   "outputs": [
    {
     "data": {
      "image/png": "[encoded data removed]",
      "text/plain": [
       "<Figure size 1440x360 with 3 Axes>"
      ]
     },
     "metadata": {
      "needs_background": "light"
     },
     "output_type": "display_data"
    }
   ],
   "source": [
    "coluna = 'iteracoes_12m'\n",
    "titulos = ['Iterações Clientes', 'Iterações Adimplentes', 'Iterações Inadimplentes']\n",
    "\n",
    "eixo = 0\n",
    "max_y = 0\n",
    "figura, eixos = plt.subplots(1,3, figsize=(20, 5), sharex=True)\n",
    "\n",
    "for dataframe in [df, df_adimplente, df_inadimplente]:\n",
    "\n",
    "  f = sns.histplot(x=coluna, data=dataframe, stat='count', ax=eixos[eixo])\n",
    "  f.set(title=titulos[eixo], xlabel=None, ylabel='Frequência Absoluta')\n",
    "\n",
    "  _, max_y_f = f.get_ylim()\n",
    "  max_y = max_y_f if max_y_f > max_y else max_y\n",
    "  f.set(ylim=(0, max_y))\n",
    "\n",
    "  eixo += 1\n",
    "\n",
    "figura.show()"
   ]
  },
  {
   "cell_type": "markdown",
   "id": "a57e63c7",
   "metadata": {
    "papermill": {
     "duration": 0.018201,
     "end_time": "2022-06-24T03:08:23.032888",
     "exception": false,
     "start_time": "2022-06-24T03:08:23.014687",
     "status": "completed"
    },
    "tags": []
   },
   "source": [
    "#### 5.2.3 - Quantidade de Transações nos últimos 12 meses"
   ]
  },
  {
   "cell_type": "code",
   "execution_count": 27,
   "id": "4879183d",
   "metadata": {
    "execution": {
     "iopub.execute_input": "2022-06-24T03:08:23.069961Z",
     "iopub.status.busy": "2022-06-24T03:08:23.069593Z",
     "iopub.status.idle": "2022-06-24T03:08:23.680791Z",
     "shell.execute_reply": "2022-06-24T03:08:23.679585Z"
    },
    "papermill": {
     "duration": 0.632642,
     "end_time": "2022-06-24T03:08:23.683201",
     "exception": false,
     "start_time": "2022-06-24T03:08:23.050559",
     "status": "completed"
    },
    "tags": []
   },
   "outputs": [
    {
     "data": {
      "image/png": "[encoded data removed]",
      "text/plain": [
       "<Figure size 1440x360 with 3 Axes>"
      ]
     },
     "metadata": {
      "needs_background": "light"
     },
     "output_type": "display_data"
    }
   ],
   "source": [
    "coluna = 'qtd_transacoes_12m'\n",
    "titulos = ['Quantidade de Transações dos Clientes', 'Quantidade de Transações dos Adimplentes', 'Quantidade de Transações dos Inadimplentes']\n",
    "\n",
    "eixo = 0\n",
    "max_y = 0\n",
    "figura, eixos = plt.subplots(1,3, figsize=(20, 5), sharex=True)\n",
    "\n",
    "for dataframe in [df, df_adimplente, df_inadimplente]:\n",
    "\n",
    "  f = sns.histplot(x=coluna, data=dataframe, stat='count', ax=eixos[eixo])\n",
    "  f.set(title=titulos[eixo], xlabel=None, ylabel='Frequência Absoluta')\n",
    "\n",
    "  _, max_y_f = f.get_ylim()\n",
    "  max_y = max_y_f if max_y_f > max_y else max_y\n",
    "  f.set(ylim=(0, max_y))\n",
    "\n",
    "  eixo += 1\n",
    "\n",
    "figura.show()"
   ]
  },
  {
   "cell_type": "markdown",
   "id": "f1860395",
   "metadata": {
    "papermill": {
     "duration": 0.01824,
     "end_time": "2022-06-24T03:08:23.719714",
     "exception": false,
     "start_time": "2022-06-24T03:08:23.701474",
     "status": "completed"
    },
    "tags": []
   },
   "source": [
    "#### 5.2.4 - Valor de Transações nos últimos 12 meses"
   ]
  },
  {
   "cell_type": "code",
   "execution_count": 28,
   "id": "10ab96a7",
   "metadata": {
    "execution": {
     "iopub.execute_input": "2022-06-24T03:08:23.757229Z",
     "iopub.status.busy": "2022-06-24T03:08:23.756815Z",
     "iopub.status.idle": "2022-06-24T03:08:24.531365Z",
     "shell.execute_reply": "2022-06-24T03:08:24.530466Z"
    },
    "papermill": {
     "duration": 0.796125,
     "end_time": "2022-06-24T03:08:24.533758",
     "exception": false,
     "start_time": "2022-06-24T03:08:23.737633",
     "status": "completed"
    },
    "tags": []
   },
   "outputs": [
    {
     "data": {
      "image/png": "[encoded data removed]",
      "text/plain": [
       "<Figure size 1440x360 with 3 Axes>"
      ]
     },
     "metadata": {
      "needs_background": "light"
     },
     "output_type": "display_data"
    }
   ],
   "source": [
    "coluna = 'valor_transacoes_12m'\n",
    "titulos = ['Valor de Transações dos Clientes', 'Valor de Transações dos Adimplentes', 'Valor de Transações dos Inadimplentes']\n",
    "\n",
    "eixo = 0\n",
    "max_y = 0\n",
    "figura, eixos = plt.subplots(1,3, figsize=(20, 5), sharex=True)\n",
    "\n",
    "for dataframe in [df, df_adimplente, df_inadimplente]:\n",
    "\n",
    "  f = sns.histplot(x=coluna, data=dataframe, stat='count', ax=eixos[eixo])\n",
    "  f.set(title=titulos[eixo], xlabel=None, ylabel='Frequência Absoluta')\n",
    "\n",
    "  _, max_y_f = f.get_ylim()\n",
    "  max_y = max_y_f if max_y_f > max_y else max_y\n",
    "  f.set(ylim=(0, max_y))\n",
    "\n",
    "  eixo += 1\n",
    "\n",
    "figura.show()"
   ]
  },
  {
   "cell_type": "markdown",
   "id": "e88d415d",
   "metadata": {
    "papermill": {
     "duration": 0.017758,
     "end_time": "2022-06-24T03:08:24.570032",
     "exception": false,
     "start_time": "2022-06-24T03:08:24.552274",
     "status": "completed"
    },
    "tags": []
   },
   "source": [
    "#### 5.2.5 - Relação entre o Valor e Quantidade das Transações considerando os clientes Adimplentes e Inadimplentes."
   ]
  },
  {
   "cell_type": "code",
   "execution_count": 29,
   "id": "a5317e8a",
   "metadata": {
    "execution": {
     "iopub.execute_input": "2022-06-24T03:08:24.608711Z",
     "iopub.status.busy": "2022-06-24T03:08:24.608028Z",
     "iopub.status.idle": "2022-06-24T03:08:25.471317Z",
     "shell.execute_reply": "2022-06-24T03:08:25.470126Z"
    },
    "papermill": {
     "duration": 0.885243,
     "end_time": "2022-06-24T03:08:25.473598",
     "exception": false,
     "start_time": "2022-06-24T03:08:24.588355",
     "status": "completed"
    },
    "tags": []
   },
   "outputs": [
    {
     "data": {
      "image/png": "[encoded data removed]",
      "text/plain": [
       "<Figure size 403.375x360 with 1 Axes>"
      ]
     },
     "metadata": {
      "needs_background": "light"
     },
     "output_type": "display_data"
    }
   ],
   "source": [
    "f = sns.relplot(x='valor_transacoes_12m', y='qtd_transacoes_12m', data=df, hue='default')\n",
    "_ = f.set(\n",
    "    title='Relação entre Valor e Quantidade de Transações no Último Ano', \n",
    "    xlabel='Valor das Transações no Último Ano', \n",
    "    ylabel='Quantidade das Transações no Último Ano'\n",
    "  )"
   ]
  },
  {
   "cell_type": "markdown",
   "id": "a3020902",
   "metadata": {
    "papermill": {
     "duration": 0.019709,
     "end_time": "2022-06-24T03:08:25.514032",
     "exception": false,
     "start_time": "2022-06-24T03:08:25.494323",
     "status": "completed"
    },
    "tags": []
   },
   "source": [
    "# 6 - Conclusão"
   ]
  },
  {
   "cell_type": "markdown",
   "id": "710da8b6",
   "metadata": {
    "papermill": {
     "duration": 0.019541,
     "end_time": "2022-06-24T03:08:25.553940",
     "exception": false,
     "start_time": "2022-06-24T03:08:25.534399",
     "status": "completed"
    },
    "tags": []
   },
   "source": [
    "* O conjunto de dados original possuía registros incompletos e informações cadastradas com tipo de dados equivocados. O tratamento da base permitiu retirar tais inconsistências sem prejudicar o universo de dados e sem afetar a proporção entre clientes adimplentes e inadimplentes.\n",
    "\n",
    "* A análise gráfica dos dados categóricos (Escolaridade, Estado Civil, Salário Anual e Tipo do Cartão) não revelou alterações que justificassem o motivo da inadimplência dos clientes.\n",
    "\n",
    "* Por sua vez, a análise dos **valores numéricos** revelou uma diferença de comportamento entre clientes adimplentes e inadimplentes, especialmente em relação ao **Valor e a Quantidade de transações** realizadas nos últimos 12 meses.\n",
    "\n",
    "* A correlação destes dados demonstra uma concentração de inadimplência em dois principais grupos:\n",
    "\n",
    "> a) clientes com até 60 transações, com valores até 5.000 reais;\n",
    "\n",
    "> b) clientes com 60 a 90 transações, com valores na faixa de 6.000 a 11.000 reais.\n",
    "\n",
    "* Desta forma, a exploração mais aprofundada de tais nichos poderá tazer novos insights sobre o comportamento de inadimplência dos clientes. "
   ]
  }
 ],
 "metadata": {
  "kernelspec": {
   "display_name": "Python 3",
   "language": "python",
   "name": "python3"
  },
  "language_info": {
   "codemirror_mode": {
    "name": "ipython",
    "version": 3
   },
   "file_extension": ".py",
   "mimetype": "text/x-python",
   "name": "python",
   "nbconvert_exporter": "python",
   "pygments_lexer": "ipython3",
   "version": "3.7.12"
  },
  "papermill": {
   "default_parameters": {},
   "duration": 20.29899,
   "end_time": "2022-06-24T03:08:26.295011",
   "environment_variables": {},
   "exception": null,
   "input_path": "__notebook__.ipynb",
   "output_path": "__notebook__.ipynb",
   "parameters": {},
   "start_time": "2022-06-24T03:08:05.996021",
   "version": "2.3.4"
  }
 },
 "nbformat": 4,
 "nbformat_minor": 5
}
